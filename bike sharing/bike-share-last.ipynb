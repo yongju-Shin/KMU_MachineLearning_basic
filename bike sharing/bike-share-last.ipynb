{
 "cells": [
  {
   "cell_type": "code",
   "execution_count": 1,
   "id": "3c610c00",
   "metadata": {
    "execution": {
     "iopub.execute_input": "2021-11-19T12:11:34.796873Z",
     "iopub.status.busy": "2021-11-19T12:11:34.796233Z",
     "iopub.status.idle": "2021-11-19T12:11:35.571404Z",
     "shell.execute_reply": "2021-11-19T12:11:35.571891Z",
     "shell.execute_reply.started": "2021-11-19T11:18:05.938185Z"
    },
    "id": "OWEHgfVOw1AS",
    "papermill": {
     "duration": 0.81406,
     "end_time": "2021-11-19T12:11:35.572200",
     "exception": false,
     "start_time": "2021-11-19T12:11:34.758140",
     "status": "completed"
    },
    "tags": []
   },
   "outputs": [],
   "source": [
    "# 필요 라이브러리 마운트\n",
    "import numpy as np\n",
    "import pandas as pd\n",
    "import seaborn as sns\n",
    "import matplotlib.pyplot as plt\n",
    "%matplotlib inline"
   ]
  },
  {
   "cell_type": "code",
   "execution_count": 2,
   "id": "77264b15",
   "metadata": {
    "execution": {
     "iopub.execute_input": "2021-11-19T12:11:35.632990Z",
     "iopub.status.busy": "2021-11-19T12:11:35.632209Z",
     "iopub.status.idle": "2021-11-19T12:11:35.634234Z",
     "shell.execute_reply": "2021-11-19T12:11:35.634632Z",
     "shell.execute_reply.started": "2021-11-19T11:18:05.946827Z"
    },
    "id": "np0UXX-gzRnq",
    "outputId": "4e185f44-c2fd-490b-e554-5d97b75575d6",
    "papermill": {
     "duration": 0.03233,
     "end_time": "2021-11-19T12:11:35.634768",
     "exception": false,
     "start_time": "2021-11-19T12:11:35.602438",
     "status": "completed"
    },
    "tags": []
   },
   "outputs": [],
   "source": [
    "#구글드라이브 마운트\n",
    "#from google.colab import drive\n",
    "#drive.mount('/content/drive')\n"
   ]
  },
  {
   "cell_type": "code",
   "execution_count": 3,
   "id": "60ca2f7c",
   "metadata": {
    "execution": {
     "iopub.execute_input": "2021-11-19T12:11:35.722204Z",
     "iopub.status.busy": "2021-11-19T12:11:35.721378Z",
     "iopub.status.idle": "2021-11-19T12:11:35.801783Z",
     "shell.execute_reply": "2021-11-19T12:11:35.802199Z",
     "shell.execute_reply.started": "2021-11-19T11:18:05.959193Z"
    },
    "id": "MXGxNSlezRuh",
    "outputId": "f824e1cb-e210-4626-e57c-6cf2ae8ff302",
    "papermill": {
     "duration": 0.132926,
     "end_time": "2021-11-19T12:11:35.802341",
     "exception": false,
     "start_time": "2021-11-19T12:11:35.669415",
     "status": "completed"
    },
    "tags": []
   },
   "outputs": [
    {
     "name": "stdout",
     "output_type": "stream",
     "text": [
      "(10886, 12)\n"
     ]
    },
    {
     "data": {
      "text/html": [
       "<div>\n",
       "<style scoped>\n",
       "    .dataframe tbody tr th:only-of-type {\n",
       "        vertical-align: middle;\n",
       "    }\n",
       "\n",
       "    .dataframe tbody tr th {\n",
       "        vertical-align: top;\n",
       "    }\n",
       "\n",
       "    .dataframe thead th {\n",
       "        text-align: right;\n",
       "    }\n",
       "</style>\n",
       "<table border=\"1\" class=\"dataframe\">\n",
       "  <thead>\n",
       "    <tr style=\"text-align: right;\">\n",
       "      <th></th>\n",
       "      <th>datetime</th>\n",
       "      <th>season</th>\n",
       "      <th>holiday</th>\n",
       "      <th>workingday</th>\n",
       "      <th>weather</th>\n",
       "      <th>temp</th>\n",
       "      <th>atemp</th>\n",
       "      <th>humidity</th>\n",
       "      <th>windspeed</th>\n",
       "      <th>casual</th>\n",
       "      <th>registered</th>\n",
       "      <th>count</th>\n",
       "    </tr>\n",
       "  </thead>\n",
       "  <tbody>\n",
       "    <tr>\n",
       "      <th>0</th>\n",
       "      <td>2011-01-01 00:00:00</td>\n",
       "      <td>1</td>\n",
       "      <td>0</td>\n",
       "      <td>0</td>\n",
       "      <td>1</td>\n",
       "      <td>9.84</td>\n",
       "      <td>14.395</td>\n",
       "      <td>81</td>\n",
       "      <td>0.0</td>\n",
       "      <td>3</td>\n",
       "      <td>13</td>\n",
       "      <td>16</td>\n",
       "    </tr>\n",
       "    <tr>\n",
       "      <th>1</th>\n",
       "      <td>2011-01-01 01:00:00</td>\n",
       "      <td>1</td>\n",
       "      <td>0</td>\n",
       "      <td>0</td>\n",
       "      <td>1</td>\n",
       "      <td>9.02</td>\n",
       "      <td>13.635</td>\n",
       "      <td>80</td>\n",
       "      <td>0.0</td>\n",
       "      <td>8</td>\n",
       "      <td>32</td>\n",
       "      <td>40</td>\n",
       "    </tr>\n",
       "    <tr>\n",
       "      <th>2</th>\n",
       "      <td>2011-01-01 02:00:00</td>\n",
       "      <td>1</td>\n",
       "      <td>0</td>\n",
       "      <td>0</td>\n",
       "      <td>1</td>\n",
       "      <td>9.02</td>\n",
       "      <td>13.635</td>\n",
       "      <td>80</td>\n",
       "      <td>0.0</td>\n",
       "      <td>5</td>\n",
       "      <td>27</td>\n",
       "      <td>32</td>\n",
       "    </tr>\n",
       "    <tr>\n",
       "      <th>3</th>\n",
       "      <td>2011-01-01 03:00:00</td>\n",
       "      <td>1</td>\n",
       "      <td>0</td>\n",
       "      <td>0</td>\n",
       "      <td>1</td>\n",
       "      <td>9.84</td>\n",
       "      <td>14.395</td>\n",
       "      <td>75</td>\n",
       "      <td>0.0</td>\n",
       "      <td>3</td>\n",
       "      <td>10</td>\n",
       "      <td>13</td>\n",
       "    </tr>\n",
       "    <tr>\n",
       "      <th>4</th>\n",
       "      <td>2011-01-01 04:00:00</td>\n",
       "      <td>1</td>\n",
       "      <td>0</td>\n",
       "      <td>0</td>\n",
       "      <td>1</td>\n",
       "      <td>9.84</td>\n",
       "      <td>14.395</td>\n",
       "      <td>75</td>\n",
       "      <td>0.0</td>\n",
       "      <td>0</td>\n",
       "      <td>1</td>\n",
       "      <td>1</td>\n",
       "    </tr>\n",
       "  </tbody>\n",
       "</table>\n",
       "</div>"
      ],
      "text/plain": [
       "              datetime  season  holiday  workingday  weather  temp   atemp  \\\n",
       "0  2011-01-01 00:00:00       1        0           0        1  9.84  14.395   \n",
       "1  2011-01-01 01:00:00       1        0           0        1  9.02  13.635   \n",
       "2  2011-01-01 02:00:00       1        0           0        1  9.02  13.635   \n",
       "3  2011-01-01 03:00:00       1        0           0        1  9.84  14.395   \n",
       "4  2011-01-01 04:00:00       1        0           0        1  9.84  14.395   \n",
       "\n",
       "   humidity  windspeed  casual  registered  count  \n",
       "0        81        0.0       3          13     16  \n",
       "1        80        0.0       8          32     40  \n",
       "2        80        0.0       5          27     32  \n",
       "3        75        0.0       3          10     13  \n",
       "4        75        0.0       0           1      1  "
      ]
     },
     "execution_count": 3,
     "metadata": {},
     "output_type": "execute_result"
    }
   ],
   "source": [
    "# 파이썬 경고를 비활성화 해주는 코드 \n",
    "\n",
    "import warnings\n",
    "warnings.filterwarnings(\"ignore\", category=RuntimeWarning)\n",
    "\n",
    "# 데이터 불러오기 \n",
    "\n",
    "bike_train_df = pd.read_csv('../input/bike-sharing-demand/train.csv')\n",
    "bike_test_df = pd.read_csv('../input/bike-sharing-demand/test.csv')\n",
    "print(bike_train_df.shape)\n",
    "bike_train_df.head()"
   ]
  },
  {
   "cell_type": "code",
   "execution_count": 4,
   "id": "bdddfdf5",
   "metadata": {
    "execution": {
     "iopub.execute_input": "2021-11-19T12:11:35.870438Z",
     "iopub.status.busy": "2021-11-19T12:11:35.869878Z",
     "iopub.status.idle": "2021-11-19T12:11:35.876951Z",
     "shell.execute_reply": "2021-11-19T12:11:35.877346Z",
     "shell.execute_reply.started": "2021-11-19T11:18:06.010731Z"
    },
    "id": "xYnCNprR6bH8",
    "outputId": "76aad5e9-1758-478e-98de-95ef2ede4870",
    "papermill": {
     "duration": 0.045822,
     "end_time": "2021-11-19T12:11:35.877473",
     "exception": false,
     "start_time": "2021-11-19T12:11:35.831651",
     "status": "completed"
    },
    "tags": []
   },
   "outputs": [
    {
     "name": "stdout",
     "output_type": "stream",
     "text": [
      "(6493, 9)\n"
     ]
    },
    {
     "data": {
      "text/html": [
       "<div>\n",
       "<style scoped>\n",
       "    .dataframe tbody tr th:only-of-type {\n",
       "        vertical-align: middle;\n",
       "    }\n",
       "\n",
       "    .dataframe tbody tr th {\n",
       "        vertical-align: top;\n",
       "    }\n",
       "\n",
       "    .dataframe thead th {\n",
       "        text-align: right;\n",
       "    }\n",
       "</style>\n",
       "<table border=\"1\" class=\"dataframe\">\n",
       "  <thead>\n",
       "    <tr style=\"text-align: right;\">\n",
       "      <th></th>\n",
       "      <th>datetime</th>\n",
       "      <th>season</th>\n",
       "      <th>holiday</th>\n",
       "      <th>workingday</th>\n",
       "      <th>weather</th>\n",
       "      <th>temp</th>\n",
       "      <th>atemp</th>\n",
       "      <th>humidity</th>\n",
       "      <th>windspeed</th>\n",
       "    </tr>\n",
       "  </thead>\n",
       "  <tbody>\n",
       "    <tr>\n",
       "      <th>0</th>\n",
       "      <td>2011-01-20 00:00:00</td>\n",
       "      <td>1</td>\n",
       "      <td>0</td>\n",
       "      <td>1</td>\n",
       "      <td>1</td>\n",
       "      <td>10.66</td>\n",
       "      <td>11.365</td>\n",
       "      <td>56</td>\n",
       "      <td>26.0027</td>\n",
       "    </tr>\n",
       "    <tr>\n",
       "      <th>1</th>\n",
       "      <td>2011-01-20 01:00:00</td>\n",
       "      <td>1</td>\n",
       "      <td>0</td>\n",
       "      <td>1</td>\n",
       "      <td>1</td>\n",
       "      <td>10.66</td>\n",
       "      <td>13.635</td>\n",
       "      <td>56</td>\n",
       "      <td>0.0000</td>\n",
       "    </tr>\n",
       "    <tr>\n",
       "      <th>2</th>\n",
       "      <td>2011-01-20 02:00:00</td>\n",
       "      <td>1</td>\n",
       "      <td>0</td>\n",
       "      <td>1</td>\n",
       "      <td>1</td>\n",
       "      <td>10.66</td>\n",
       "      <td>13.635</td>\n",
       "      <td>56</td>\n",
       "      <td>0.0000</td>\n",
       "    </tr>\n",
       "    <tr>\n",
       "      <th>3</th>\n",
       "      <td>2011-01-20 03:00:00</td>\n",
       "      <td>1</td>\n",
       "      <td>0</td>\n",
       "      <td>1</td>\n",
       "      <td>1</td>\n",
       "      <td>10.66</td>\n",
       "      <td>12.880</td>\n",
       "      <td>56</td>\n",
       "      <td>11.0014</td>\n",
       "    </tr>\n",
       "    <tr>\n",
       "      <th>4</th>\n",
       "      <td>2011-01-20 04:00:00</td>\n",
       "      <td>1</td>\n",
       "      <td>0</td>\n",
       "      <td>1</td>\n",
       "      <td>1</td>\n",
       "      <td>10.66</td>\n",
       "      <td>12.880</td>\n",
       "      <td>56</td>\n",
       "      <td>11.0014</td>\n",
       "    </tr>\n",
       "  </tbody>\n",
       "</table>\n",
       "</div>"
      ],
      "text/plain": [
       "              datetime  season  holiday  workingday  weather   temp   atemp  \\\n",
       "0  2011-01-20 00:00:00       1        0           1        1  10.66  11.365   \n",
       "1  2011-01-20 01:00:00       1        0           1        1  10.66  13.635   \n",
       "2  2011-01-20 02:00:00       1        0           1        1  10.66  13.635   \n",
       "3  2011-01-20 03:00:00       1        0           1        1  10.66  12.880   \n",
       "4  2011-01-20 04:00:00       1        0           1        1  10.66  12.880   \n",
       "\n",
       "   humidity  windspeed  \n",
       "0        56    26.0027  \n",
       "1        56     0.0000  \n",
       "2        56     0.0000  \n",
       "3        56    11.0014  \n",
       "4        56    11.0014  "
      ]
     },
     "execution_count": 4,
     "metadata": {},
     "output_type": "execute_result"
    }
   ],
   "source": [
    "print(bike_test_df.shape)\n",
    "bike_test_df.head()"
   ]
  },
  {
   "cell_type": "markdown",
   "id": "b4ddffa9",
   "metadata": {
    "id": "IBIOlW6x2Nbz",
    "papermill": {
     "duration": 0.028725,
     "end_time": "2021-11-19T12:11:35.935843",
     "exception": false,
     "start_time": "2021-11-19T12:11:35.907118",
     "status": "completed"
    },
    "tags": []
   },
   "source": [
    "12개 칼럼, 10886 레코드\n",
    "\n",
    "Datetime: 날짜\n",
    "\n",
    "season: 1=봄, 2=여름 ,3=가을, 4=겨울\n",
    "\n",
    "holiday: 1=토, 일요일의 주말을 제외한 국경일 등의 휴일 , 0= 휴일이 아닌날\n",
    "\n",
    "workingday: 1= 토, 일요일의 주말 및 휴일이 아닌 주중, 0= 주말 및 휴일\n",
    "\n",
    "weather: 1= 맑음, 약간 구름 낀 흐림 , 2=안개, 안개+흐림 ,3= 가벼운 눈 , 가벼운 비+ 천둥, 4= 심한 눈/비, 천둥/번개 \n",
    "\n",
    "temp: 온도(섭씨)\n",
    "\n",
    "atemp: 체감온도(섭씨)\n",
    "\n",
    "humidity: 상대습도\n",
    "\n",
    "windspeed: 풍속\n",
    "\n",
    "casual: 사전에 등록되지 않은 사용자가 대여한 횟수\n",
    "\n",
    "registered: 사전에 등록된 사용자가 대여한 횟수\n",
    "\n",
    "count : 대여횟수\n"
   ]
  },
  {
   "cell_type": "code",
   "execution_count": 5,
   "id": "08f66e6d",
   "metadata": {
    "execution": {
     "iopub.execute_input": "2021-11-19T12:11:36.001244Z",
     "iopub.status.busy": "2021-11-19T12:11:35.998957Z",
     "iopub.status.idle": "2021-11-19T12:11:36.023427Z",
     "shell.execute_reply": "2021-11-19T12:11:36.023981Z",
     "shell.execute_reply.started": "2021-11-19T11:18:06.029238Z"
    },
    "id": "Urg0RlTjzRzM",
    "outputId": "8b36ffd9-eaed-42ad-83e7-803ea5e9e4a8",
    "papermill": {
     "duration": 0.059908,
     "end_time": "2021-11-19T12:11:36.024145",
     "exception": false,
     "start_time": "2021-11-19T12:11:35.964237",
     "status": "completed"
    },
    "tags": []
   },
   "outputs": [
    {
     "name": "stdout",
     "output_type": "stream",
     "text": [
      "<class 'pandas.core.frame.DataFrame'>\n",
      "RangeIndex: 10886 entries, 0 to 10885\n",
      "Data columns (total 12 columns):\n",
      " #   Column      Non-Null Count  Dtype  \n",
      "---  ------      --------------  -----  \n",
      " 0   datetime    10886 non-null  object \n",
      " 1   season      10886 non-null  int64  \n",
      " 2   holiday     10886 non-null  int64  \n",
      " 3   workingday  10886 non-null  int64  \n",
      " 4   weather     10886 non-null  int64  \n",
      " 5   temp        10886 non-null  float64\n",
      " 6   atemp       10886 non-null  float64\n",
      " 7   humidity    10886 non-null  int64  \n",
      " 8   windspeed   10886 non-null  float64\n",
      " 9   casual      10886 non-null  int64  \n",
      " 10  registered  10886 non-null  int64  \n",
      " 11  count       10886 non-null  int64  \n",
      "dtypes: float64(3), int64(8), object(1)\n",
      "memory usage: 1020.7+ KB\n",
      "<class 'pandas.core.frame.DataFrame'>\n",
      "RangeIndex: 6493 entries, 0 to 6492\n",
      "Data columns (total 9 columns):\n",
      " #   Column      Non-Null Count  Dtype  \n",
      "---  ------      --------------  -----  \n",
      " 0   datetime    6493 non-null   object \n",
      " 1   season      6493 non-null   int64  \n",
      " 2   holiday     6493 non-null   int64  \n",
      " 3   workingday  6493 non-null   int64  \n",
      " 4   weather     6493 non-null   int64  \n",
      " 5   temp        6493 non-null   float64\n",
      " 6   atemp       6493 non-null   float64\n",
      " 7   humidity    6493 non-null   int64  \n",
      " 8   windspeed   6493 non-null   float64\n",
      "dtypes: float64(3), int64(5), object(1)\n",
      "memory usage: 456.7+ KB\n"
     ]
    }
   ],
   "source": [
    "# 트레인데이터 속성 \n",
    "# 결측치 없음 , datetime 만 object 속성으로 가공필요 \n",
    "bike_train_df.info()\n",
    "bike_test_df.info()"
   ]
  },
  {
   "cell_type": "code",
   "execution_count": 6,
   "id": "0e94bcc3",
   "metadata": {
    "execution": {
     "iopub.execute_input": "2021-11-19T12:11:36.087846Z",
     "iopub.status.busy": "2021-11-19T12:11:36.087062Z",
     "iopub.status.idle": "2021-11-19T12:11:36.993395Z",
     "shell.execute_reply": "2021-11-19T12:11:36.994531Z",
     "shell.execute_reply.started": "2021-11-19T11:18:06.052474Z"
    },
    "id": "Hfj9_5nWzR5j",
    "outputId": "e58ce6a1-3d5f-43ca-a463-8b4e73cd94b1",
    "papermill": {
     "duration": 0.940041,
     "end_time": "2021-11-19T12:11:36.994860",
     "exception": false,
     "start_time": "2021-11-19T12:11:36.054819",
     "status": "completed"
    },
    "tags": []
   },
   "outputs": [
    {
     "data": {
      "text/plain": [
       "<AxesSubplot:>"
      ]
     },
     "execution_count": 6,
     "metadata": {},
     "output_type": "execute_result"
    },
    {
     "data": {
      "image/png": "[encoded data removed]",
      "text/plain": [
       "<Figure size 864x360 with 2 Axes>"
      ]
     },
     "metadata": {
      "needs_background": "light"
     },
     "output_type": "display_data"
    },
    {
     "data": {
      "image/png": "[encoded data removed]",
      "text/plain": [
       "<Figure size 864x360 with 2 Axes>"
      ]
     },
     "metadata": {
      "needs_background": "light"
     },
     "output_type": "display_data"
    }
   ],
   "source": [
    "# 결측치 확인하는 라이브러리 missingno 흰색선이 보일시 결측치 \n",
    "import missingno as msno\n",
    "msno.matrix(bike_train_df, figsize=(12,5))\n",
    "msno.matrix(bike_test_df, figsize=(12,5))"
   ]
  },
  {
   "cell_type": "code",
   "execution_count": 7,
   "id": "6a6beca8",
   "metadata": {
    "execution": {
     "iopub.execute_input": "2021-11-19T12:11:37.095359Z",
     "iopub.status.busy": "2021-11-19T12:11:37.085303Z",
     "iopub.status.idle": "2021-11-19T12:11:38.421953Z",
     "shell.execute_reply": "2021-11-19T12:11:38.421475Z",
     "shell.execute_reply.started": "2021-11-19T11:18:06.794211Z"
    },
    "id": "-SYNNrRAzR1S",
    "outputId": "9fe885c2-5dc4-4bcb-ef83-9b07ff486034",
    "papermill": {
     "duration": 1.37769,
     "end_time": "2021-11-19T12:11:38.422096",
     "exception": false,
     "start_time": "2021-11-19T12:11:37.044406",
     "status": "completed"
    },
    "tags": []
   },
   "outputs": [
    {
     "data": {
      "text/html": [
       "<div>\n",
       "<style scoped>\n",
       "    .dataframe tbody tr th:only-of-type {\n",
       "        vertical-align: middle;\n",
       "    }\n",
       "\n",
       "    .dataframe tbody tr th {\n",
       "        vertical-align: top;\n",
       "    }\n",
       "\n",
       "    .dataframe thead th {\n",
       "        text-align: right;\n",
       "    }\n",
       "</style>\n",
       "<table border=\"1\" class=\"dataframe\">\n",
       "  <thead>\n",
       "    <tr style=\"text-align: right;\">\n",
       "      <th></th>\n",
       "      <th>datetime</th>\n",
       "      <th>season</th>\n",
       "      <th>holiday</th>\n",
       "      <th>workingday</th>\n",
       "      <th>weather</th>\n",
       "      <th>temp</th>\n",
       "      <th>atemp</th>\n",
       "      <th>humidity</th>\n",
       "      <th>windspeed</th>\n",
       "      <th>casual</th>\n",
       "      <th>registered</th>\n",
       "      <th>count</th>\n",
       "      <th>year</th>\n",
       "      <th>month</th>\n",
       "      <th>day</th>\n",
       "      <th>hour</th>\n",
       "    </tr>\n",
       "  </thead>\n",
       "  <tbody>\n",
       "    <tr>\n",
       "      <th>0</th>\n",
       "      <td>2011-01-01 00:00:00</td>\n",
       "      <td>1</td>\n",
       "      <td>0</td>\n",
       "      <td>0</td>\n",
       "      <td>1</td>\n",
       "      <td>9.84</td>\n",
       "      <td>14.395</td>\n",
       "      <td>81</td>\n",
       "      <td>0.0</td>\n",
       "      <td>3</td>\n",
       "      <td>13</td>\n",
       "      <td>16</td>\n",
       "      <td>2011</td>\n",
       "      <td>1</td>\n",
       "      <td>1</td>\n",
       "      <td>0</td>\n",
       "    </tr>\n",
       "    <tr>\n",
       "      <th>1</th>\n",
       "      <td>2011-01-01 01:00:00</td>\n",
       "      <td>1</td>\n",
       "      <td>0</td>\n",
       "      <td>0</td>\n",
       "      <td>1</td>\n",
       "      <td>9.02</td>\n",
       "      <td>13.635</td>\n",
       "      <td>80</td>\n",
       "      <td>0.0</td>\n",
       "      <td>8</td>\n",
       "      <td>32</td>\n",
       "      <td>40</td>\n",
       "      <td>2011</td>\n",
       "      <td>1</td>\n",
       "      <td>1</td>\n",
       "      <td>1</td>\n",
       "    </tr>\n",
       "    <tr>\n",
       "      <th>2</th>\n",
       "      <td>2011-01-01 02:00:00</td>\n",
       "      <td>1</td>\n",
       "      <td>0</td>\n",
       "      <td>0</td>\n",
       "      <td>1</td>\n",
       "      <td>9.02</td>\n",
       "      <td>13.635</td>\n",
       "      <td>80</td>\n",
       "      <td>0.0</td>\n",
       "      <td>5</td>\n",
       "      <td>27</td>\n",
       "      <td>32</td>\n",
       "      <td>2011</td>\n",
       "      <td>1</td>\n",
       "      <td>1</td>\n",
       "      <td>2</td>\n",
       "    </tr>\n",
       "  </tbody>\n",
       "</table>\n",
       "</div>"
      ],
      "text/plain": [
       "             datetime  season  holiday  workingday  weather  temp   atemp  \\\n",
       "0 2011-01-01 00:00:00       1        0           0        1  9.84  14.395   \n",
       "1 2011-01-01 01:00:00       1        0           0        1  9.02  13.635   \n",
       "2 2011-01-01 02:00:00       1        0           0        1  9.02  13.635   \n",
       "\n",
       "   humidity  windspeed  casual  registered  count  year  month  day  hour  \n",
       "0        81        0.0       3          13     16  2011      1    1     0  \n",
       "1        80        0.0       8          32     40  2011      1    1     1  \n",
       "2        80        0.0       5          27     32  2011      1    1     2  "
      ]
     },
     "execution_count": 7,
     "metadata": {},
     "output_type": "execute_result"
    }
   ],
   "source": [
    "# 문자열을 datetime 타입으로 변경\n",
    "bike_train_df['datetime']= bike_train_df.datetime.apply(pd.to_datetime)\n",
    "\n",
    "# datetime 타입에서 년, 월, 일, 시간 추출\n",
    "# 신규 컬럼으로 년, 월 , 일, 시간이 추가됨\n",
    "bike_train_df['year']= bike_train_df.datetime.apply(lambda x : x.year)\n",
    "bike_train_df['month']= bike_train_df.datetime.apply(lambda x : x.month)\n",
    "bike_train_df['day']= bike_train_df.datetime.apply(lambda x : x.day)\n",
    "bike_train_df['hour']= bike_train_df.datetime.apply(lambda x : x.hour)\n",
    "bike_train_df.head(3)"
   ]
  },
  {
   "cell_type": "code",
   "execution_count": 8,
   "id": "8095046e",
   "metadata": {
    "execution": {
     "iopub.execute_input": "2021-11-19T12:11:38.521872Z",
     "iopub.status.busy": "2021-11-19T12:11:38.510370Z",
     "iopub.status.idle": "2021-11-19T12:11:39.128648Z",
     "shell.execute_reply": "2021-11-19T12:11:39.129027Z",
     "shell.execute_reply.started": "2021-11-19T11:18:07.932195Z"
    },
    "id": "F3nU-Sdk66-L",
    "outputId": "6d277b6a-0043-4dc9-c5e1-a736afc50f70",
    "papermill": {
     "duration": 0.67396,
     "end_time": "2021-11-19T12:11:39.129173",
     "exception": false,
     "start_time": "2021-11-19T12:11:38.455213",
     "status": "completed"
    },
    "tags": []
   },
   "outputs": [
    {
     "data": {
      "text/html": [
       "<div>\n",
       "<style scoped>\n",
       "    .dataframe tbody tr th:only-of-type {\n",
       "        vertical-align: middle;\n",
       "    }\n",
       "\n",
       "    .dataframe tbody tr th {\n",
       "        vertical-align: top;\n",
       "    }\n",
       "\n",
       "    .dataframe thead th {\n",
       "        text-align: right;\n",
       "    }\n",
       "</style>\n",
       "<table border=\"1\" class=\"dataframe\">\n",
       "  <thead>\n",
       "    <tr style=\"text-align: right;\">\n",
       "      <th></th>\n",
       "      <th>datetime</th>\n",
       "      <th>season</th>\n",
       "      <th>holiday</th>\n",
       "      <th>workingday</th>\n",
       "      <th>weather</th>\n",
       "      <th>temp</th>\n",
       "      <th>atemp</th>\n",
       "      <th>humidity</th>\n",
       "      <th>windspeed</th>\n",
       "      <th>year</th>\n",
       "      <th>month</th>\n",
       "      <th>day</th>\n",
       "      <th>hour</th>\n",
       "    </tr>\n",
       "  </thead>\n",
       "  <tbody>\n",
       "    <tr>\n",
       "      <th>0</th>\n",
       "      <td>2011-01-20 00:00:00</td>\n",
       "      <td>1</td>\n",
       "      <td>0</td>\n",
       "      <td>1</td>\n",
       "      <td>1</td>\n",
       "      <td>10.66</td>\n",
       "      <td>11.365</td>\n",
       "      <td>56</td>\n",
       "      <td>26.0027</td>\n",
       "      <td>2011</td>\n",
       "      <td>1</td>\n",
       "      <td>20</td>\n",
       "      <td>0</td>\n",
       "    </tr>\n",
       "    <tr>\n",
       "      <th>1</th>\n",
       "      <td>2011-01-20 01:00:00</td>\n",
       "      <td>1</td>\n",
       "      <td>0</td>\n",
       "      <td>1</td>\n",
       "      <td>1</td>\n",
       "      <td>10.66</td>\n",
       "      <td>13.635</td>\n",
       "      <td>56</td>\n",
       "      <td>0.0000</td>\n",
       "      <td>2011</td>\n",
       "      <td>1</td>\n",
       "      <td>20</td>\n",
       "      <td>1</td>\n",
       "    </tr>\n",
       "    <tr>\n",
       "      <th>2</th>\n",
       "      <td>2011-01-20 02:00:00</td>\n",
       "      <td>1</td>\n",
       "      <td>0</td>\n",
       "      <td>1</td>\n",
       "      <td>1</td>\n",
       "      <td>10.66</td>\n",
       "      <td>13.635</td>\n",
       "      <td>56</td>\n",
       "      <td>0.0000</td>\n",
       "      <td>2011</td>\n",
       "      <td>1</td>\n",
       "      <td>20</td>\n",
       "      <td>2</td>\n",
       "    </tr>\n",
       "  </tbody>\n",
       "</table>\n",
       "</div>"
      ],
      "text/plain": [
       "             datetime  season  holiday  workingday  weather   temp   atemp  \\\n",
       "0 2011-01-20 00:00:00       1        0           1        1  10.66  11.365   \n",
       "1 2011-01-20 01:00:00       1        0           1        1  10.66  13.635   \n",
       "2 2011-01-20 02:00:00       1        0           1        1  10.66  13.635   \n",
       "\n",
       "   humidity  windspeed  year  month  day  hour  \n",
       "0        56    26.0027  2011      1   20     0  \n",
       "1        56     0.0000  2011      1   20     1  \n",
       "2        56     0.0000  2011      1   20     2  "
      ]
     },
     "execution_count": 8,
     "metadata": {},
     "output_type": "execute_result"
    }
   ],
   "source": [
    "# 문자열을 datetime 타입으로 변경\n",
    "bike_test_df['datetime']= bike_test_df.datetime.apply(pd.to_datetime)\n",
    "\n",
    "# datetime 타입에서 년, 월, 일, 시간 추출\n",
    "# 신규 컬럼으로 년, 월 , 일, 시간이 추가됨\n",
    "bike_test_df['year']= bike_test_df.datetime.apply(lambda x : x.year)\n",
    "bike_test_df['month']= bike_test_df.datetime.apply(lambda x : x.month)\n",
    "bike_test_df['day']= bike_test_df.datetime.apply(lambda x : x.day)\n",
    "bike_test_df['hour']= bike_test_df.datetime.apply(lambda x : x.hour)\n",
    "bike_test_df.head(3)"
   ]
  },
  {
   "cell_type": "code",
   "execution_count": 9,
   "id": "b12f2f23",
   "metadata": {
    "execution": {
     "iopub.execute_input": "2021-11-19T12:11:39.198039Z",
     "iopub.status.busy": "2021-11-19T12:11:39.197221Z",
     "iopub.status.idle": "2021-11-19T12:11:39.201049Z",
     "shell.execute_reply": "2021-11-19T12:11:39.200641Z",
     "shell.execute_reply.started": "2021-11-19T11:18:08.78167Z"
    },
    "id": "3p5DZRAVzR3e",
    "papermill": {
     "duration": 0.039469,
     "end_time": "2021-11-19T12:11:39.201153",
     "exception": false,
     "start_time": "2021-11-19T12:11:39.161684",
     "status": "completed"
    },
    "tags": []
   },
   "outputs": [],
   "source": [
    "# 년, 월, 일, 시간 추가로 datetime 컬럼 삭제  및 가입자별 대여현황 삭제(상관도가 너무높아 예측성능을 저해함)\n",
    "drop_columns = ['datetime','casual','registered']\n",
    "bike_train_df.drop(drop_columns, axis=1, inplace=True)"
   ]
  },
  {
   "cell_type": "code",
   "execution_count": 10,
   "id": "fe586f0e",
   "metadata": {
    "execution": {
     "iopub.execute_input": "2021-11-19T12:11:39.268914Z",
     "iopub.status.busy": "2021-11-19T12:11:39.268119Z",
     "iopub.status.idle": "2021-11-19T12:11:39.271505Z",
     "shell.execute_reply": "2021-11-19T12:11:39.271073Z",
     "shell.execute_reply.started": "2021-11-19T11:18:08.793664Z"
    },
    "id": "BR3dlg6OzR7z",
    "papermill": {
     "duration": 0.038724,
     "end_time": "2021-11-19T12:11:39.271632",
     "exception": false,
     "start_time": "2021-11-19T12:11:39.232908",
     "status": "completed"
    },
    "tags": []
   },
   "outputs": [],
   "source": [
    "drop_columns = ['datetime']\n",
    "bike_test_df.drop(drop_columns, axis=1, inplace=True)"
   ]
  },
  {
   "cell_type": "markdown",
   "id": "e188b561",
   "metadata": {
    "id": "_6P5pnIIChtG",
    "papermill": {
     "duration": 0.031317,
     "end_time": "2021-11-19T12:11:39.334672",
     "exception": false,
     "start_time": "2021-11-19T12:11:39.303355",
     "status": "completed"
    },
    "tags": []
   },
   "source": [
    "탐색적 데이터 분석(EDA)"
   ]
  },
  {
   "cell_type": "code",
   "execution_count": 11,
   "id": "d524e56a",
   "metadata": {
    "execution": {
     "iopub.execute_input": "2021-11-19T12:11:39.401464Z",
     "iopub.status.busy": "2021-11-19T12:11:39.400946Z",
     "iopub.status.idle": "2021-11-19T12:11:40.576456Z",
     "shell.execute_reply": "2021-11-19T12:11:40.576933Z",
     "shell.execute_reply.started": "2021-11-19T11:18:08.80165Z"
    },
    "id": "qLfDvzUCCf2P",
    "outputId": "4df0f181-710f-4e7f-e16b-db38f09227fe",
    "papermill": {
     "duration": 1.211255,
     "end_time": "2021-11-19T12:11:40.577101",
     "exception": false,
     "start_time": "2021-11-19T12:11:39.365846",
     "status": "completed"
    },
    "tags": []
   },
   "outputs": [
    {
     "data": {
      "text/plain": [
       "<AxesSubplot:>"
      ]
     },
     "execution_count": 11,
     "metadata": {},
     "output_type": "execute_result"
    },
    {
     "data": {
      "image/png": "[encoded data removed]",
      "text/plain": [
       "<Figure size 648x360 with 2 Axes>"
      ]
     },
     "metadata": {
      "needs_background": "light"
     },
     "output_type": "display_data"
    }
   ],
   "source": [
    "corr = bike_train_df.corr()\n",
    "plt.figure(figsize = (9,5))\n",
    "sns.heatmap(corr , cmap = 'RdYlBu_r' , annot=True , fmt = '.2f')"
   ]
  },
  {
   "cell_type": "code",
   "execution_count": 12,
   "id": "73234269",
   "metadata": {
    "execution": {
     "iopub.execute_input": "2021-11-19T12:11:40.651853Z",
     "iopub.status.busy": "2021-11-19T12:11:40.651059Z",
     "iopub.status.idle": "2021-11-19T12:11:40.920226Z",
     "shell.execute_reply": "2021-11-19T12:11:40.919767Z",
     "shell.execute_reply.started": "2021-11-19T11:18:09.911317Z"
    },
    "id": "usFKnGkvCf4e",
    "outputId": "81f429b4-741d-4ade-ed08-5b23deaedf28",
    "papermill": {
     "duration": 0.308269,
     "end_time": "2021-11-19T12:11:40.920357",
     "exception": false,
     "start_time": "2021-11-19T12:11:40.612088",
     "status": "completed"
    },
    "tags": []
   },
   "outputs": [
    {
     "name": "stdout",
     "output_type": "stream",
     "text": [
      "mean rentals in fall : 234.417124039517\n"
     ]
    },
    {
     "data": {
      "image/png": "[encoded data removed]",
      "text/plain": [
       "<Figure size 360x360 with 1 Axes>"
      ]
     },
     "metadata": {
      "needs_background": "light"
     },
     "output_type": "display_data"
    }
   ],
   "source": [
    "sns.catplot(data = bike_train_df.replace({'season':{1:'spring' , 2:'summer' , 3:'fall' , 4:'winter'}} , inplace = False)\\\n",
    "           , x = 'season' , y = 'count' , kind = 'bar' , ci = None ,  alpha = 0.9)\n",
    "plt.title('comparison season' , fontdict = {'family':'serif' , 'size':16})\n",
    "print( \"mean rentals in fall :\", bike_train_df[bike_train_df['season'] == 3]['count'].mean())"
   ]
  },
  {
   "cell_type": "code",
   "execution_count": 13,
   "id": "316f5325",
   "metadata": {
    "execution": {
     "iopub.execute_input": "2021-11-19T12:11:40.996621Z",
     "iopub.status.busy": "2021-11-19T12:11:40.996068Z",
     "iopub.status.idle": "2021-11-19T12:11:41.089585Z",
     "shell.execute_reply": "2021-11-19T12:11:41.090007Z",
     "shell.execute_reply.started": "2021-11-19T11:18:10.198962Z"
    },
    "id": "u_EQERftCf66",
    "outputId": "6f166b58-414b-4ef7-f972-f448e5857b70",
    "papermill": {
     "duration": 0.134348,
     "end_time": "2021-11-19T12:11:41.090139",
     "exception": false,
     "start_time": "2021-11-19T12:11:40.955791",
     "status": "completed"
    },
    "tags": []
   },
   "outputs": [
    {
     "data": {
      "image/png": "[encoded data removed]",
      "text/plain": [
       "<Figure size 432x288 with 1 Axes>"
      ]
     },
     "metadata": {},
     "output_type": "display_data"
    }
   ],
   "source": [
    "# mrw = mean rentals on working day\n",
    "# mrf = mean rentals on free day\n",
    "\n",
    "mrw = bike_train_df[bike_train_df['workingday'] == 1]['count'].mean()\n",
    "mrf = bike_train_df[bike_train_df['workingday'] == 0]['count'].mean()\n",
    "\n",
    "plt.pie([ mrw , mrf ] , labels = ['working day' , 'free day'] , explode = [0.1,0] , startangle = 10 , shadow = True)\n",
    "plt.text(-0.4,0.5,'%f'%(mrw))\n",
    "plt.text(-0.3,-0.5,'%f'%(mrf))\n",
    "plt.show()"
   ]
  },
  {
   "cell_type": "code",
   "execution_count": 14,
   "id": "add33a1b",
   "metadata": {
    "execution": {
     "iopub.execute_input": "2021-11-19T12:11:41.184746Z",
     "iopub.status.busy": "2021-11-19T12:11:41.175355Z",
     "iopub.status.idle": "2021-11-19T12:11:50.094606Z",
     "shell.execute_reply": "2021-11-19T12:11:50.095038Z",
     "shell.execute_reply.started": "2021-11-19T11:18:10.301264Z"
    },
    "id": "bNaT9AbiCf9C",
    "outputId": "f6dd3969-1114-4990-c477-8e9ce3bd4b34",
    "papermill": {
     "duration": 8.969353,
     "end_time": "2021-11-19T12:11:50.095185",
     "exception": false,
     "start_time": "2021-11-19T12:11:41.125832",
     "status": "completed"
    },
    "tags": []
   },
   "outputs": [
    {
     "data": {
      "text/plain": [
       "<AxesSubplot:xlabel='hour', ylabel='count'>"
      ]
     },
     "execution_count": 14,
     "metadata": {},
     "output_type": "execute_result"
    },
    {
     "data": {
      "image/png": "[encoded data removed]",
      "text/plain": [
       "<Figure size 864x1440 with 4 Axes>"
      ]
     },
     "metadata": {
      "needs_background": "light"
     },
     "output_type": "display_data"
    }
   ],
   "source": [
    "fig, (ax1, ax2, ax3, ax4)=plt.subplots(nrows=4)\n",
    "fig.set_size_inches(12,20)\n",
    "\n",
    "sns.pointplot(data=bike_train_df, x=\"hour\", y=\"count\", ax=ax1)\n",
    "sns.pointplot(data=bike_train_df, x=\"hour\", y=\"count\",hue='workingday' ,ax=ax2)\n",
    "sns.pointplot(data=bike_train_df, x=\"hour\", y=\"count\",hue='weather' ,ax=ax3)\n",
    "sns.pointplot(data=bike_train_df, x=\"hour\", y=\"count\",hue='season' ,ax=ax4)"
   ]
  },
  {
   "cell_type": "code",
   "execution_count": 15,
   "id": "40a0669c",
   "metadata": {
    "execution": {
     "iopub.execute_input": "2021-11-19T12:11:50.178403Z",
     "iopub.status.busy": "2021-11-19T12:11:50.177642Z",
     "iopub.status.idle": "2021-11-19T12:11:50.222247Z",
     "shell.execute_reply": "2021-11-19T12:11:50.222678Z",
     "shell.execute_reply.started": "2021-11-19T11:18:19.292454Z"
    },
    "id": "_xVKY8ao-Dyd",
    "outputId": "33ccfb4d-5375-4c94-921f-8be0e708f5f0",
    "papermill": {
     "duration": 0.087787,
     "end_time": "2021-11-19T12:11:50.222818",
     "exception": false,
     "start_time": "2021-11-19T12:11:50.135031",
     "status": "completed"
    },
    "tags": []
   },
   "outputs": [
    {
     "data": {
      "text/html": [
       "<div>\n",
       "<style scoped>\n",
       "    .dataframe tbody tr th:only-of-type {\n",
       "        vertical-align: middle;\n",
       "    }\n",
       "\n",
       "    .dataframe tbody tr th {\n",
       "        vertical-align: top;\n",
       "    }\n",
       "\n",
       "    .dataframe thead th {\n",
       "        text-align: right;\n",
       "    }\n",
       "</style>\n",
       "<table border=\"1\" class=\"dataframe\">\n",
       "  <thead>\n",
       "    <tr style=\"text-align: right;\">\n",
       "      <th></th>\n",
       "      <th>season</th>\n",
       "      <th>holiday</th>\n",
       "      <th>workingday</th>\n",
       "      <th>weather</th>\n",
       "      <th>temp</th>\n",
       "      <th>atemp</th>\n",
       "      <th>humidity</th>\n",
       "      <th>windspeed</th>\n",
       "      <th>count</th>\n",
       "      <th>year</th>\n",
       "      <th>month</th>\n",
       "      <th>day</th>\n",
       "      <th>hour</th>\n",
       "    </tr>\n",
       "  </thead>\n",
       "  <tbody>\n",
       "    <tr>\n",
       "      <th>count</th>\n",
       "      <td>10886.000000</td>\n",
       "      <td>10886.000000</td>\n",
       "      <td>10886.000000</td>\n",
       "      <td>10886.000000</td>\n",
       "      <td>10886.00000</td>\n",
       "      <td>10886.000000</td>\n",
       "      <td>10886.000000</td>\n",
       "      <td>10886.000000</td>\n",
       "      <td>10886.000000</td>\n",
       "      <td>10886.000000</td>\n",
       "      <td>10886.000000</td>\n",
       "      <td>10886.000000</td>\n",
       "      <td>10886.000000</td>\n",
       "    </tr>\n",
       "    <tr>\n",
       "      <th>mean</th>\n",
       "      <td>2.506614</td>\n",
       "      <td>0.028569</td>\n",
       "      <td>0.680875</td>\n",
       "      <td>1.418427</td>\n",
       "      <td>20.23086</td>\n",
       "      <td>23.655084</td>\n",
       "      <td>61.886460</td>\n",
       "      <td>12.799395</td>\n",
       "      <td>191.574132</td>\n",
       "      <td>2011.501929</td>\n",
       "      <td>6.521495</td>\n",
       "      <td>9.992559</td>\n",
       "      <td>11.541613</td>\n",
       "    </tr>\n",
       "    <tr>\n",
       "      <th>std</th>\n",
       "      <td>1.116174</td>\n",
       "      <td>0.166599</td>\n",
       "      <td>0.466159</td>\n",
       "      <td>0.633839</td>\n",
       "      <td>7.79159</td>\n",
       "      <td>8.474601</td>\n",
       "      <td>19.245033</td>\n",
       "      <td>8.164537</td>\n",
       "      <td>181.144454</td>\n",
       "      <td>0.500019</td>\n",
       "      <td>3.444373</td>\n",
       "      <td>5.476608</td>\n",
       "      <td>6.915838</td>\n",
       "    </tr>\n",
       "    <tr>\n",
       "      <th>min</th>\n",
       "      <td>1.000000</td>\n",
       "      <td>0.000000</td>\n",
       "      <td>0.000000</td>\n",
       "      <td>1.000000</td>\n",
       "      <td>0.82000</td>\n",
       "      <td>0.760000</td>\n",
       "      <td>0.000000</td>\n",
       "      <td>0.000000</td>\n",
       "      <td>1.000000</td>\n",
       "      <td>2011.000000</td>\n",
       "      <td>1.000000</td>\n",
       "      <td>1.000000</td>\n",
       "      <td>0.000000</td>\n",
       "    </tr>\n",
       "    <tr>\n",
       "      <th>25%</th>\n",
       "      <td>2.000000</td>\n",
       "      <td>0.000000</td>\n",
       "      <td>0.000000</td>\n",
       "      <td>1.000000</td>\n",
       "      <td>13.94000</td>\n",
       "      <td>16.665000</td>\n",
       "      <td>47.000000</td>\n",
       "      <td>7.001500</td>\n",
       "      <td>42.000000</td>\n",
       "      <td>2011.000000</td>\n",
       "      <td>4.000000</td>\n",
       "      <td>5.000000</td>\n",
       "      <td>6.000000</td>\n",
       "    </tr>\n",
       "    <tr>\n",
       "      <th>50%</th>\n",
       "      <td>3.000000</td>\n",
       "      <td>0.000000</td>\n",
       "      <td>1.000000</td>\n",
       "      <td>1.000000</td>\n",
       "      <td>20.50000</td>\n",
       "      <td>24.240000</td>\n",
       "      <td>62.000000</td>\n",
       "      <td>12.998000</td>\n",
       "      <td>145.000000</td>\n",
       "      <td>2012.000000</td>\n",
       "      <td>7.000000</td>\n",
       "      <td>10.000000</td>\n",
       "      <td>12.000000</td>\n",
       "    </tr>\n",
       "    <tr>\n",
       "      <th>75%</th>\n",
       "      <td>4.000000</td>\n",
       "      <td>0.000000</td>\n",
       "      <td>1.000000</td>\n",
       "      <td>2.000000</td>\n",
       "      <td>26.24000</td>\n",
       "      <td>31.060000</td>\n",
       "      <td>77.000000</td>\n",
       "      <td>16.997900</td>\n",
       "      <td>284.000000</td>\n",
       "      <td>2012.000000</td>\n",
       "      <td>10.000000</td>\n",
       "      <td>15.000000</td>\n",
       "      <td>18.000000</td>\n",
       "    </tr>\n",
       "    <tr>\n",
       "      <th>max</th>\n",
       "      <td>4.000000</td>\n",
       "      <td>1.000000</td>\n",
       "      <td>1.000000</td>\n",
       "      <td>4.000000</td>\n",
       "      <td>41.00000</td>\n",
       "      <td>45.455000</td>\n",
       "      <td>100.000000</td>\n",
       "      <td>56.996900</td>\n",
       "      <td>977.000000</td>\n",
       "      <td>2012.000000</td>\n",
       "      <td>12.000000</td>\n",
       "      <td>19.000000</td>\n",
       "      <td>23.000000</td>\n",
       "    </tr>\n",
       "  </tbody>\n",
       "</table>\n",
       "</div>"
      ],
      "text/plain": [
       "             season       holiday    workingday       weather         temp  \\\n",
       "count  10886.000000  10886.000000  10886.000000  10886.000000  10886.00000   \n",
       "mean       2.506614      0.028569      0.680875      1.418427     20.23086   \n",
       "std        1.116174      0.166599      0.466159      0.633839      7.79159   \n",
       "min        1.000000      0.000000      0.000000      1.000000      0.82000   \n",
       "25%        2.000000      0.000000      0.000000      1.000000     13.94000   \n",
       "50%        3.000000      0.000000      1.000000      1.000000     20.50000   \n",
       "75%        4.000000      0.000000      1.000000      2.000000     26.24000   \n",
       "max        4.000000      1.000000      1.000000      4.000000     41.00000   \n",
       "\n",
       "              atemp      humidity     windspeed         count          year  \\\n",
       "count  10886.000000  10886.000000  10886.000000  10886.000000  10886.000000   \n",
       "mean      23.655084     61.886460     12.799395    191.574132   2011.501929   \n",
       "std        8.474601     19.245033      8.164537    181.144454      0.500019   \n",
       "min        0.760000      0.000000      0.000000      1.000000   2011.000000   \n",
       "25%       16.665000     47.000000      7.001500     42.000000   2011.000000   \n",
       "50%       24.240000     62.000000     12.998000    145.000000   2012.000000   \n",
       "75%       31.060000     77.000000     16.997900    284.000000   2012.000000   \n",
       "max       45.455000    100.000000     56.996900    977.000000   2012.000000   \n",
       "\n",
       "              month           day          hour  \n",
       "count  10886.000000  10886.000000  10886.000000  \n",
       "mean       6.521495      9.992559     11.541613  \n",
       "std        3.444373      5.476608      6.915838  \n",
       "min        1.000000      1.000000      0.000000  \n",
       "25%        4.000000      5.000000      6.000000  \n",
       "50%        7.000000     10.000000     12.000000  \n",
       "75%       10.000000     15.000000     18.000000  \n",
       "max       12.000000     19.000000     23.000000  "
      ]
     },
     "execution_count": 15,
     "metadata": {},
     "output_type": "execute_result"
    }
   ],
   "source": [
    "# 기술통계뿐석 \n",
    "bike_train_df.describe()"
   ]
  },
  {
   "cell_type": "code",
   "execution_count": 16,
   "id": "e50a477a",
   "metadata": {
    "execution": {
     "iopub.execute_input": "2021-11-19T12:11:50.308431Z",
     "iopub.status.busy": "2021-11-19T12:11:50.307472Z",
     "iopub.status.idle": "2021-11-19T12:11:50.545529Z",
     "shell.execute_reply": "2021-11-19T12:11:50.545026Z",
     "shell.execute_reply.started": "2021-11-19T11:18:19.33944Z"
    },
    "id": "UTYTyf83-D8n",
    "papermill": {
     "duration": 0.282612,
     "end_time": "2021-11-19T12:11:50.545686",
     "exception": false,
     "start_time": "2021-11-19T12:11:50.263074",
     "status": "completed"
    },
    "tags": []
   },
   "outputs": [],
   "source": [
    "from sklearn.model_selection import train_test_split, GridSearchCV\n",
    "\n",
    "y_target=bike_train_df['count']\n",
    "X_features=bike_train_df.drop(['count'],axis=1, inplace=False)\n",
    "\n",
    "X_train, X_test, y_train, y_test = train_test_split(X_features, y_target, test_size=0.3, random_state=0)"
   ]
  },
  {
   "cell_type": "code",
   "execution_count": 17,
   "id": "a9768d60",
   "metadata": {
    "execution": {
     "iopub.execute_input": "2021-11-19T12:11:50.634390Z",
     "iopub.status.busy": "2021-11-19T12:11:50.633492Z",
     "iopub.status.idle": "2021-11-19T12:11:50.636168Z",
     "shell.execute_reply": "2021-11-19T12:11:50.635693Z",
     "shell.execute_reply.started": "2021-11-19T11:18:19.353431Z"
    },
    "id": "Ox21GFt2-D_b",
    "papermill": {
     "duration": 0.049712,
     "end_time": "2021-11-19T12:11:50.636287",
     "exception": false,
     "start_time": "2021-11-19T12:11:50.586575",
     "status": "completed"
    },
    "tags": []
   },
   "outputs": [],
   "source": [
    "from sklearn.metrics import mean_squared_error, mean_absolute_error\n",
    "\n",
    "def rmsle(y, pred):\n",
    "  log_y= np.log1p(y)\n",
    "  log_pred= np.log1p(pred)\n",
    "  squared_error = (log_y - log_pred)**2\n",
    "  rmsle = np.sqrt(np.mean(squared_error))\n",
    "  return rmsle \n",
    "\n",
    "def rmse(y, pred):\n",
    "  return np.sqrt(mean_squared_error(y, pred))\n",
    "\n",
    "def evaluate_regr(y, pred):\n",
    "  rmsle_val = rmsle(y, pred)\n",
    "  rmse_val = rmse(y, pred)\n",
    "  mae_val = mean_absolute_error(y, pred)\n",
    "  print('RMSLE: {0:.3f}, RMSE: {1:.3f},MAE: {2:.3f}'.format(rmsle_val, rmse_val, mae_val))"
   ]
  },
  {
   "cell_type": "code",
   "execution_count": 18,
   "id": "fa64d2a9",
   "metadata": {
    "execution": {
     "iopub.execute_input": "2021-11-19T12:11:50.723243Z",
     "iopub.status.busy": "2021-11-19T12:11:50.722579Z",
     "iopub.status.idle": "2021-11-19T12:11:50.805193Z",
     "shell.execute_reply": "2021-11-19T12:11:50.806449Z",
     "shell.execute_reply.started": "2021-11-19T11:18:19.365406Z"
    },
    "id": "SE0lU3NZ-EEN",
    "outputId": "82b1354e-e995-4cdb-b9ca-cd85442ecbc4",
    "papermill": {
     "duration": 0.128357,
     "end_time": "2021-11-19T12:11:50.806715",
     "exception": false,
     "start_time": "2021-11-19T12:11:50.678358",
     "status": "completed"
    },
    "tags": []
   },
   "outputs": [
    {
     "name": "stdout",
     "output_type": "stream",
     "text": [
      "RMSLE: 1.165, RMSE: 140.900,MAE: 105.924\n"
     ]
    }
   ],
   "source": [
    "from sklearn.linear_model import LinearRegression, Ridge, Lasso\n",
    "\n",
    "lr_reg=LinearRegression()\n",
    "lr_reg.fit(X_train, y_train)\n",
    "pred= lr_reg.predict(X_test)\n",
    "\n",
    "evaluate_regr(y_test, pred)"
   ]
  },
  {
   "cell_type": "code",
   "execution_count": 19,
   "id": "e665a42f",
   "metadata": {
    "execution": {
     "iopub.execute_input": "2021-11-19T12:11:50.959349Z",
     "iopub.status.busy": "2021-11-19T12:11:50.958444Z",
     "iopub.status.idle": "2021-11-19T12:11:50.966564Z",
     "shell.execute_reply": "2021-11-19T12:11:50.965826Z",
     "shell.execute_reply.started": "2021-11-19T11:18:19.383975Z"
    },
    "id": "A56jfylpRy98",
    "outputId": "696435e3-673c-4782-f2bd-9596a452a6ea",
    "papermill": {
     "duration": 0.078796,
     "end_time": "2021-11-19T12:11:50.966718",
     "exception": false,
     "start_time": "2021-11-19T12:11:50.887922",
     "status": "completed"
    },
    "tags": []
   },
   "outputs": [
    {
     "name": "stdout",
     "output_type": "stream",
     "text": [
      "      real_count  predicted_count   diff\n",
      "1618         890            322.0  568.0\n",
      "3151         798            241.0  557.0\n",
      "966          884            327.0  557.0\n",
      "412          745            194.0  551.0\n",
      "2817         856            310.0  546.0\n"
     ]
    }
   ],
   "source": [
    "def get_top_error_data(y_test, pred, n_tops=5):\n",
    "  result_df=pd.DataFrame(y_test.values, columns=['real_count'])\n",
    "  result_df['predicted_count']= np.round(pred)\n",
    "  result_df['diff']= np.abs(result_df['real_count']-result_df['predicted_count'])\n",
    "\n",
    "  print(result_df.sort_values('diff', ascending=False)[:n_tops])\n",
    "\n",
    "get_top_error_data(y_test, pred, n_tops=5)"
   ]
  },
  {
   "cell_type": "code",
   "execution_count": 20,
   "id": "2b974f17",
   "metadata": {
    "execution": {
     "iopub.execute_input": "2021-11-19T12:11:51.102081Z",
     "iopub.status.busy": "2021-11-19T12:11:51.100085Z",
     "iopub.status.idle": "2021-11-19T12:11:51.341634Z",
     "shell.execute_reply": "2021-11-19T12:11:51.341171Z",
     "shell.execute_reply.started": "2021-11-19T11:18:19.401528Z"
    },
    "id": "eIX-Fp-kRzOm",
    "outputId": "0748bcbb-b776-4154-a2e9-e22c615bf2d8",
    "papermill": {
     "duration": 0.330861,
     "end_time": "2021-11-19T12:11:51.341761",
     "exception": false,
     "start_time": "2021-11-19T12:11:51.010900",
     "status": "completed"
    },
    "tags": []
   },
   "outputs": [
    {
     "data": {
      "text/plain": [
       "<AxesSubplot:>"
      ]
     },
     "execution_count": 20,
     "metadata": {},
     "output_type": "execute_result"
    },
    {
     "data": {
      "image/png": "[encoded data removed]",
      "text/plain": [
       "<Figure size 432x288 with 1 Axes>"
      ]
     },
     "metadata": {
      "needs_background": "light"
     },
     "output_type": "display_data"
    }
   ],
   "source": [
    "y_target.hist()"
   ]
  },
  {
   "cell_type": "code",
   "execution_count": 21,
   "id": "c0ada527",
   "metadata": {
    "execution": {
     "iopub.execute_input": "2021-11-19T12:11:51.430956Z",
     "iopub.status.busy": "2021-11-19T12:11:51.430160Z",
     "iopub.status.idle": "2021-11-19T12:11:51.642133Z",
     "shell.execute_reply": "2021-11-19T12:11:51.642577Z",
     "shell.execute_reply.started": "2021-11-19T11:18:19.655275Z"
    },
    "id": "Jf-x8H3MRzRK",
    "outputId": "9eddde13-b060-4136-ca9a-298429dfd284",
    "papermill": {
     "duration": 0.257874,
     "end_time": "2021-11-19T12:11:51.642771",
     "exception": false,
     "start_time": "2021-11-19T12:11:51.384897",
     "status": "completed"
    },
    "tags": []
   },
   "outputs": [
    {
     "data": {
      "text/plain": [
       "<AxesSubplot:>"
      ]
     },
     "execution_count": 21,
     "metadata": {},
     "output_type": "execute_result"
    },
    {
     "data": {
      "image/png": "[encoded data removed]",
      "text/plain": [
       "<Figure size 432x288 with 1 Axes>"
      ]
     },
     "metadata": {
      "needs_background": "light"
     },
     "output_type": "display_data"
    }
   ],
   "source": [
    "y_log_transform = np.log1p(y_target)\n",
    "y_log_transform.hist()"
   ]
  },
  {
   "cell_type": "code",
   "execution_count": 22,
   "id": "f821beb6",
   "metadata": {
    "execution": {
     "iopub.execute_input": "2021-11-19T12:11:51.733396Z",
     "iopub.status.busy": "2021-11-19T12:11:51.732640Z",
     "iopub.status.idle": "2021-11-19T12:11:51.748218Z",
     "shell.execute_reply": "2021-11-19T12:11:51.749022Z",
     "shell.execute_reply.started": "2021-11-19T11:18:19.870645Z"
    },
    "id": "mD2Vr2rtRzTg",
    "outputId": "f4ac9748-5259-49b0-8976-1d179a30dbd5",
    "papermill": {
     "duration": 0.06448,
     "end_time": "2021-11-19T12:11:51.749300",
     "exception": false,
     "start_time": "2021-11-19T12:11:51.684820",
     "status": "completed"
    },
    "tags": []
   },
   "outputs": [
    {
     "name": "stdout",
     "output_type": "stream",
     "text": [
      "RMSLE: 1.017, RMSE: 162.594,MAE: 109.286\n"
     ]
    }
   ],
   "source": [
    "y_target_log= np.log1p(y_target)\n",
    "\n",
    "X_train, X_test, y_train, y_test = train_test_split(X_features, y_target_log, test_size=0.3,random_state=0)\n",
    "\n",
    "lr_reg=LinearRegression()\n",
    "lr_reg.fit(X_train, y_train)\n",
    "pred = lr_reg.predict(X_test)\n",
    "\n",
    "y_test_exp = np.expm1(y_test)\n",
    "\n",
    "pred_exp= np.expm1(pred)\n",
    "\n",
    "evaluate_regr(y_test_exp, pred_exp)"
   ]
  },
  {
   "cell_type": "code",
   "execution_count": 23,
   "id": "a8ca3d2c",
   "metadata": {
    "execution": {
     "iopub.execute_input": "2021-11-19T12:11:51.902300Z",
     "iopub.status.busy": "2021-11-19T12:11:51.901428Z",
     "iopub.status.idle": "2021-11-19T12:11:52.151142Z",
     "shell.execute_reply": "2021-11-19T12:11:52.151530Z",
     "shell.execute_reply.started": "2021-11-19T11:18:19.891438Z"
    },
    "id": "KxAO45DAUtUn",
    "outputId": "74871eac-9c7b-4fbb-9c79-d2ab29f67e2f",
    "papermill": {
     "duration": 0.320368,
     "end_time": "2021-11-19T12:11:52.151704",
     "exception": false,
     "start_time": "2021-11-19T12:11:51.831336",
     "status": "completed"
    },
    "tags": []
   },
   "outputs": [
    {
     "data": {
      "text/plain": [
       "<AxesSubplot:>"
      ]
     },
     "execution_count": 23,
     "metadata": {},
     "output_type": "execute_result"
    },
    {
     "data": {
      "image/png": "[encoded data removed]",
      "text/plain": [
       "<Figure size 432x288 with 1 Axes>"
      ]
     },
     "metadata": {
      "needs_background": "light"
     },
     "output_type": "display_data"
    }
   ],
   "source": [
    "coef = pd.Series(lr_reg.coef_, index=X_features.columns)\n",
    "coef_sort = coef.sort_values(ascending=False)\n",
    "sns.barplot(x=coef_sort.values, y=coef_sort.index)"
   ]
  },
  {
   "cell_type": "code",
   "execution_count": 24,
   "id": "190a6c4e",
   "metadata": {
    "execution": {
     "iopub.execute_input": "2021-11-19T12:11:52.246468Z",
     "iopub.status.busy": "2021-11-19T12:11:52.245132Z",
     "iopub.status.idle": "2021-11-19T12:11:52.255892Z",
     "shell.execute_reply": "2021-11-19T12:11:52.255310Z",
     "shell.execute_reply.started": "2021-11-19T11:18:20.19282Z"
    },
    "id": "vIc4yEkJVZ2_",
    "papermill": {
     "duration": 0.060308,
     "end_time": "2021-11-19T12:11:52.256007",
     "exception": false,
     "start_time": "2021-11-19T12:11:52.195699",
     "status": "completed"
    },
    "tags": []
   },
   "outputs": [],
   "source": [
    "X_features_ohe = pd. get_dummies(X_features, columns=['year','month','day','hour','holiday','workingday','season','weather'])"
   ]
  },
  {
   "cell_type": "code",
   "execution_count": 25,
   "id": "6a24c554",
   "metadata": {
    "execution": {
     "iopub.execute_input": "2021-11-19T12:11:52.356363Z",
     "iopub.status.busy": "2021-11-19T12:11:52.355573Z",
     "iopub.status.idle": "2021-11-19T12:11:52.481368Z",
     "shell.execute_reply": "2021-11-19T12:11:52.482447Z",
     "shell.execute_reply.started": "2021-11-19T11:18:20.209378Z"
    },
    "id": "vZZfAIyzVZ57",
    "outputId": "f1a5707c-cf53-4d90-9f67-df216c72671b",
    "papermill": {
     "duration": 0.183063,
     "end_time": "2021-11-19T12:11:52.482742",
     "exception": false,
     "start_time": "2021-11-19T12:11:52.299679",
     "status": "completed"
    },
    "tags": []
   },
   "outputs": [
    {
     "name": "stdout",
     "output_type": "stream",
     "text": [
      "### LinearRegression ###\n",
      "RMSLE: 0.590, RMSE: 97.688,MAE: 63.382\n",
      "### Ridge ###\n",
      "RMSLE: 0.590, RMSE: 98.529,MAE: 63.893\n",
      "### Lasso ###\n",
      "RMSLE: 0.635, RMSE: 113.219,MAE: 72.803\n"
     ]
    }
   ],
   "source": [
    "X_train, X_test, y_train, y_test = train_test_split(X_features_ohe, y_target_log, test_size=0.3, random_state=0)\n",
    "\n",
    "def get_model_predict(model, X_train, X_test, y_train, y_test, is_expm1=False):\n",
    "  model.fit(X_train, y_train)\n",
    "  pred = model.predict(X_test)\n",
    "  if is_expm1 :\n",
    "    y_test = np.expm1(y_test)\n",
    "    pred = np.expm1(pred)\n",
    "  print('###',model.__class__.__name__,'###')\n",
    "  evaluate_regr(y_test, pred)\n",
    "\n",
    "lr_reg = LinearRegression()\n",
    "ridge_reg = Ridge(alpha=10)\n",
    "lasso_reg = Lasso(alpha=0.01)\n",
    "\n",
    "for model in [lr_reg, ridge_reg, lasso_reg ]:\n",
    "  get_model_predict(model, X_train, X_test, y_train, y_test, is_expm1=True)"
   ]
  },
  {
   "cell_type": "code",
   "execution_count": 26,
   "id": "3aac5046",
   "metadata": {
    "execution": {
     "iopub.execute_input": "2021-11-19T12:11:52.648758Z",
     "iopub.status.busy": "2021-11-19T12:11:52.647652Z",
     "iopub.status.idle": "2021-11-19T12:11:52.974175Z",
     "shell.execute_reply": "2021-11-19T12:11:52.973717Z",
     "shell.execute_reply.started": "2021-11-19T11:18:20.33043Z"
    },
    "id": "i6RYlWT7VZ8W",
    "outputId": "98117c06-132f-4676-946f-76c6771cbb86",
    "papermill": {
     "duration": 0.39675,
     "end_time": "2021-11-19T12:11:52.974303",
     "exception": false,
     "start_time": "2021-11-19T12:11:52.577553",
     "status": "completed"
    },
    "tags": []
   },
   "outputs": [
    {
     "data": {
      "text/plain": [
       "<AxesSubplot:>"
      ]
     },
     "execution_count": 26,
     "metadata": {},
     "output_type": "execute_result"
    },
    {
     "data": {
      "image/png": "[encoded data removed]",
      "text/plain": [
       "<Figure size 432x288 with 1 Axes>"
      ]
     },
     "metadata": {
      "needs_background": "light"
     },
     "output_type": "display_data"
    }
   ],
   "source": [
    "coef=pd.Series(lr_reg.coef_, index=X_features_ohe.columns)\n",
    "coef_sort = coef.sort_values(ascending=False)[:20]\n",
    "sns.barplot(x=coef_sort.values, y= coef_sort.index)"
   ]
  },
  {
   "cell_type": "code",
   "execution_count": 27,
   "id": "a02350a6",
   "metadata": {
    "execution": {
     "iopub.execute_input": "2021-11-19T12:11:53.070622Z",
     "iopub.status.busy": "2021-11-19T12:11:53.069950Z",
     "iopub.status.idle": "2021-11-19T12:12:01.007584Z",
     "shell.execute_reply": "2021-11-19T12:12:01.008432Z",
     "shell.execute_reply.started": "2021-11-19T11:18:20.72622Z"
    },
    "id": "LvQuTBlFVZ_D",
    "outputId": "41a3f1e6-e5b1-4192-d84b-5b8ecbe78ac2",
    "papermill": {
     "duration": 7.988327,
     "end_time": "2021-11-19T12:12:01.008636",
     "exception": false,
     "start_time": "2021-11-19T12:11:53.020309",
     "status": "completed"
    },
    "tags": []
   },
   "outputs": [
    {
     "data": {
      "text/html": [
       "<style type='text/css'>\n",
       ".datatable table.frame { margin-bottom: 0; }\n",
       ".datatable table.frame thead { border-bottom: none; }\n",
       ".datatable table.frame tr.coltypes td {  color: #FFFFFF;  line-height: 6px;  padding: 0 0.5em;}\n",
       ".datatable .bool    { background: #DDDD99; }\n",
       ".datatable .object  { background: #565656; }\n",
       ".datatable .int     { background: #5D9E5D; }\n",
       ".datatable .float   { background: #4040CC; }\n",
       ".datatable .str     { background: #CC4040; }\n",
       ".datatable .time    { background: #40CC40; }\n",
       ".datatable .row_index {  background: var(--jp-border-color3);  border-right: 1px solid var(--jp-border-color0);  color: var(--jp-ui-font-color3);  font-size: 9px;}\n",
       ".datatable .frame tbody td { text-align: left; }\n",
       ".datatable .frame tr.coltypes .row_index {  background: var(--jp-border-color0);}\n",
       ".datatable th:nth-child(2) { padding-left: 12px; }\n",
       ".datatable .hellipsis {  color: var(--jp-cell-editor-border-color);}\n",
       ".datatable .vellipsis {  background: var(--jp-layout-color0);  color: var(--jp-cell-editor-border-color);}\n",
       ".datatable .na {  color: var(--jp-cell-editor-border-color);  font-size: 80%;}\n",
       ".datatable .sp {  opacity: 0.25;}\n",
       ".datatable .footer { font-size: 9px; }\n",
       ".datatable .frame_dimensions {  background: var(--jp-border-color3);  border-top: 1px solid var(--jp-border-color0);  color: var(--jp-ui-font-color3);  display: inline-block;  opacity: 0.6;  padding: 1px 10px 1px 5px;}\n",
       "</style>\n"
      ],
      "text/plain": [
       "<IPython.core.display.HTML object>"
      ]
     },
     "metadata": {},
     "output_type": "display_data"
    },
    {
     "name": "stdout",
     "output_type": "stream",
     "text": [
      "### RandomForestRegressor ###\n",
      "RMSLE: 0.360, RMSE: 51.865,MAE: 31.762\n",
      "### GradientBoostingRegressor ###\n",
      "RMSLE: 0.621, RMSE: 126.684,MAE: 78.591\n",
      "### XGBRegressor ###\n",
      "RMSLE: 0.354, RMSE: 57.590,MAE: 35.152\n",
      "### LGBMRegressor ###\n",
      "RMSLE: 0.371, RMSE: 64.670,MAE: 40.203\n"
     ]
    }
   ],
   "source": [
    "from sklearn.ensemble import RandomForestRegressor, GradientBoostingRegressor\n",
    "from xgboost import XGBRegressor\n",
    "from lightgbm import LGBMRegressor\n",
    "\n",
    "rf_reg = RandomForestRegressor(n_estimators=50)\n",
    "gbm_reg = GradientBoostingRegressor(n_estimators=50)\n",
    "xgb_reg = XGBRegressor(n_estimators=50)\n",
    "lgbm_reg = LGBMRegressor(n_estimators=50)\n",
    "\n",
    "for model in [rf_reg, gbm_reg, xgb_reg, lgbm_reg]:\n",
    "  get_model_predict(model, X_train.values, X_test.values, y_train.values, y_test.values, is_expm1=True)"
   ]
  },
  {
   "cell_type": "code",
   "execution_count": 28,
   "id": "4b26070f",
   "metadata": {
    "execution": {
     "iopub.execute_input": "2021-11-19T12:12:01.115083Z",
     "iopub.status.busy": "2021-11-19T12:12:01.114364Z",
     "iopub.status.idle": "2021-11-19T12:25:56.472394Z",
     "shell.execute_reply": "2021-11-19T12:25:56.472834Z",
     "shell.execute_reply.started": "2021-11-19T11:18:25.780502Z"
    },
    "id": "gv14aNdCVaBf",
    "outputId": "1a32d301-293e-4a6c-c4a5-49aab575b856",
    "papermill": {
     "duration": 835.414075,
     "end_time": "2021-11-19T12:25:56.472996",
     "exception": false,
     "start_time": "2021-11-19T12:12:01.058921",
     "status": "completed"
    },
    "tags": []
   },
   "outputs": [
    {
     "name": "stdout",
     "output_type": "stream",
     "text": [
      "Fitting 5 folds for each of 48 candidates, totalling 240 fits\n"
     ]
    },
    {
     "name": "stderr",
     "output_type": "stream",
     "text": [
      "[Parallel(n_jobs=-1)]: Using backend LokyBackend with 2 concurrent workers.\n",
      "[Parallel(n_jobs=-1)]: Done  46 tasks      | elapsed:  7.4min\n",
      "[Parallel(n_jobs=-1)]: Done 196 tasks      | elapsed: 12.5min\n",
      "[Parallel(n_jobs=-1)]: Done 240 out of 240 | elapsed: 13.7min finished\n"
     ]
    },
    {
     "name": "stdout",
     "output_type": "stream",
     "text": [
      "RandomForestRegressor RMSLE: 0.3563488110314025\n"
     ]
    },
    {
     "data": {
      "text/plain": [
       "{'max_depth': None, 'min_samples_split': 3, 'n_estimators': 200}"
      ]
     },
     "execution_count": 28,
     "metadata": {},
     "output_type": "execute_result"
    }
   ],
   "source": [
    "from sklearn.model_selection import GridSearchCV\n",
    "from sklearn.metrics import mean_squared_log_error,mean_squared_error, r2_score,mean_absolute_error # for regression\n",
    "\n",
    "# GridSearchCv를 이용한 하이퍼 파라미터.\n",
    "tuned_parameters = {'n_estimators': [100,200,300,500], 'max_depth': [None, 1, 2, 3], 'min_samples_split': [2, 3, 4]}\n",
    "\n",
    "rf_reg = GridSearchCV(RandomForestRegressor(), tuned_parameters, cv=5, scoring='neg_mean_squared_log_error', n_jobs=-1, verbose=1)\n",
    "rf_reg.fit(X_train, y_train)\n",
    "pred = rf_reg.predict(X_test)\n",
    "\n",
    "y_test_exp = np.expm1(y_test)\n",
    "pred_exp = np.expm1(pred)\n",
    "print('RandomForestRegressor RMSLE:', rmsle(y_test_exp, pred_exp))\n",
    "\n",
    "rf_reg.best_params_"
   ]
  },
  {
   "cell_type": "code",
   "execution_count": 29,
   "id": "24087739",
   "metadata": {
    "execution": {
     "iopub.execute_input": "2021-11-19T12:25:56.574282Z",
     "iopub.status.busy": "2021-11-19T12:25:56.573427Z",
     "iopub.status.idle": "2021-11-19T12:25:56.577140Z",
     "shell.execute_reply": "2021-11-19T12:25:56.577536Z",
     "shell.execute_reply.started": "2021-11-19T11:33:00.691339Z"
    },
    "id": "XpQDBCTyVaD1",
    "outputId": "2217a0e1-f8ea-4a05-f388-cdcb0ef0e5e6",
    "papermill": {
     "duration": 0.055863,
     "end_time": "2021-11-19T12:25:56.577692",
     "exception": false,
     "start_time": "2021-11-19T12:25:56.521829",
     "status": "completed"
    },
    "tags": []
   },
   "outputs": [
    {
     "name": "stdout",
     "output_type": "stream",
     "text": [
      "(7620, 73)\n",
      "(7620,)\n",
      "(3266, 73)\n"
     ]
    }
   ],
   "source": [
    "print(X_train.shape)\n",
    "print(y_train.shape)\n",
    "print(X_test.shape)"
   ]
  },
  {
   "cell_type": "code",
   "execution_count": 30,
   "id": "0e0cf22e",
   "metadata": {
    "execution": {
     "iopub.execute_input": "2021-11-19T12:25:56.680329Z",
     "iopub.status.busy": "2021-11-19T12:25:56.679521Z",
     "iopub.status.idle": "2021-11-19T12:25:56.682031Z",
     "shell.execute_reply": "2021-11-19T12:25:56.681589Z",
     "shell.execute_reply.started": "2021-11-19T11:33:00.69955Z"
    },
    "id": "VsITTAtrVaF9",
    "papermill": {
     "duration": 0.056416,
     "end_time": "2021-11-19T12:25:56.682132",
     "exception": false,
     "start_time": "2021-11-19T12:25:56.625716",
     "status": "completed"
    },
    "tags": []
   },
   "outputs": [],
   "source": [
    "X_train = bike_train_df.drop(['count'], axis=1)\n",
    "y_train = bike_train_df['count']\n",
    "X_test = bike_test_df"
   ]
  },
  {
   "cell_type": "code",
   "execution_count": 31,
   "id": "32ac8d7a",
   "metadata": {
    "execution": {
     "iopub.execute_input": "2021-11-19T12:25:56.782882Z",
     "iopub.status.busy": "2021-11-19T12:25:56.782214Z",
     "iopub.status.idle": "2021-11-19T12:25:56.792953Z",
     "shell.execute_reply": "2021-11-19T12:25:56.792504Z",
     "shell.execute_reply.started": "2021-11-19T11:33:00.713675Z"
    },
    "id": "EQV2Tw62m9xl",
    "outputId": "7d7ae2d5-a0b2-417a-c908-ce44df1dd397",
    "papermill": {
     "duration": 0.063443,
     "end_time": "2021-11-19T12:25:56.793061",
     "exception": false,
     "start_time": "2021-11-19T12:25:56.729618",
     "status": "completed"
    },
    "tags": []
   },
   "outputs": [
    {
     "name": "stdout",
     "output_type": "stream",
     "text": [
      "<class 'pandas.core.frame.DataFrame'>\n",
      "RangeIndex: 6493 entries, 0 to 6492\n",
      "Data columns (total 12 columns):\n",
      " #   Column      Non-Null Count  Dtype  \n",
      "---  ------      --------------  -----  \n",
      " 0   season      6493 non-null   int64  \n",
      " 1   holiday     6493 non-null   int64  \n",
      " 2   workingday  6493 non-null   int64  \n",
      " 3   weather     6493 non-null   int64  \n",
      " 4   temp        6493 non-null   float64\n",
      " 5   atemp       6493 non-null   float64\n",
      " 6   humidity    6493 non-null   int64  \n",
      " 7   windspeed   6493 non-null   float64\n",
      " 8   year        6493 non-null   int64  \n",
      " 9   month       6493 non-null   int64  \n",
      " 10  day         6493 non-null   int64  \n",
      " 11  hour        6493 non-null   int64  \n",
      "dtypes: float64(3), int64(9)\n",
      "memory usage: 608.8 KB\n"
     ]
    }
   ],
   "source": [
    "X_test.info()"
   ]
  },
  {
   "cell_type": "code",
   "execution_count": 32,
   "id": "928b5002",
   "metadata": {
    "execution": {
     "iopub.execute_input": "2021-11-19T12:25:56.905177Z",
     "iopub.status.busy": "2021-11-19T12:25:56.904559Z",
     "iopub.status.idle": "2021-11-19T12:25:56.916010Z",
     "shell.execute_reply": "2021-11-19T12:25:56.915162Z",
     "shell.execute_reply.started": "2021-11-19T11:33:00.732697Z"
    },
    "id": "75tOGwQ5nE4B",
    "outputId": "365e4347-c4eb-45b6-c73b-da47d5e56b0f",
    "papermill": {
     "duration": 0.06664,
     "end_time": "2021-11-19T12:25:56.916138",
     "exception": false,
     "start_time": "2021-11-19T12:25:56.849498",
     "status": "completed"
    },
    "tags": []
   },
   "outputs": [
    {
     "name": "stdout",
     "output_type": "stream",
     "text": [
      "<class 'pandas.core.frame.DataFrame'>\n",
      "RangeIndex: 10886 entries, 0 to 10885\n",
      "Data columns (total 12 columns):\n",
      " #   Column      Non-Null Count  Dtype  \n",
      "---  ------      --------------  -----  \n",
      " 0   season      10886 non-null  int64  \n",
      " 1   holiday     10886 non-null  int64  \n",
      " 2   workingday  10886 non-null  int64  \n",
      " 3   weather     10886 non-null  int64  \n",
      " 4   temp        10886 non-null  float64\n",
      " 5   atemp       10886 non-null  float64\n",
      " 6   humidity    10886 non-null  int64  \n",
      " 7   windspeed   10886 non-null  float64\n",
      " 8   year        10886 non-null  int64  \n",
      " 9   month       10886 non-null  int64  \n",
      " 10  day         10886 non-null  int64  \n",
      " 11  hour        10886 non-null  int64  \n",
      "dtypes: float64(3), int64(9)\n",
      "memory usage: 1020.7 KB\n"
     ]
    }
   ],
   "source": [
    "X_train.info()"
   ]
  },
  {
   "cell_type": "code",
   "execution_count": 33,
   "id": "6588210d",
   "metadata": {
    "execution": {
     "iopub.execute_input": "2021-11-19T12:25:57.025313Z",
     "iopub.status.busy": "2021-11-19T12:25:57.024464Z",
     "iopub.status.idle": "2021-11-19T12:34:53.151578Z",
     "shell.execute_reply": "2021-11-19T12:34:53.151100Z",
     "shell.execute_reply.started": "2021-11-19T11:44:47.532718Z"
    },
    "id": "G5FloACsmeon",
    "outputId": "2ce0b6b2-e539-417d-c15b-1911b938830d",
    "papermill": {
     "duration": 536.181816,
     "end_time": "2021-11-19T12:34:53.151749",
     "exception": false,
     "start_time": "2021-11-19T12:25:56.969933",
     "status": "completed"
    },
    "tags": []
   },
   "outputs": [
    {
     "name": "stdout",
     "output_type": "stream",
     "text": [
      "Fitting 5 folds for each of 48 candidates, totalling 240 fits\n"
     ]
    },
    {
     "name": "stderr",
     "output_type": "stream",
     "text": [
      "[Parallel(n_jobs=-1)]: Using backend LokyBackend with 2 concurrent workers.\n",
      "[Parallel(n_jobs=-1)]: Done  46 tasks      | elapsed:  4.3min\n",
      "[Parallel(n_jobs=-1)]: Done 196 tasks      | elapsed:  7.9min\n",
      "[Parallel(n_jobs=-1)]: Done 240 out of 240 | elapsed:  8.9min finished\n"
     ]
    },
    {
     "name": "stdout",
     "output_type": "stream",
     "text": [
      "[ 13.10445238   5.6625       5.531        3.47795238   2.64211905\n",
      "   8.33966667  35.42883333  87.33683333 192.25466667 119.42216667]\n"
     ]
    }
   ],
   "source": [
    "rf_reg.fit(X_train, y_train)\n",
    "pred = rf_reg.predict(X_test)  # GridSearchCv로 최적의 파라미터 적용된 모델로 예측처리.\n",
    "\n",
    "pred_exp = pred\n",
    "\n",
    "print(pred[0:10])"
   ]
  },
  {
   "cell_type": "code",
   "execution_count": 34,
   "id": "e4293001",
   "metadata": {
    "execution": {
     "iopub.execute_input": "2021-11-19T12:34:53.261945Z",
     "iopub.status.busy": "2021-11-19T12:34:53.261289Z",
     "iopub.status.idle": "2021-11-19T12:34:53.286079Z",
     "shell.execute_reply": "2021-11-19T12:34:53.286621Z",
     "shell.execute_reply.started": "2021-11-19T11:54:29.175653Z"
    },
    "id": "4WPsVGPemerT",
    "outputId": "497bf743-5c08-407c-a7ec-3ed1cd41ff22",
    "papermill": {
     "duration": 0.081763,
     "end_time": "2021-11-19T12:34:53.286779",
     "exception": false,
     "start_time": "2021-11-19T12:34:53.205016",
     "status": "completed"
    },
    "tags": []
   },
   "outputs": [
    {
     "data": {
      "text/html": [
       "<div>\n",
       "<style scoped>\n",
       "    .dataframe tbody tr th:only-of-type {\n",
       "        vertical-align: middle;\n",
       "    }\n",
       "\n",
       "    .dataframe tbody tr th {\n",
       "        vertical-align: top;\n",
       "    }\n",
       "\n",
       "    .dataframe thead th {\n",
       "        text-align: right;\n",
       "    }\n",
       "</style>\n",
       "<table border=\"1\" class=\"dataframe\">\n",
       "  <thead>\n",
       "    <tr style=\"text-align: right;\">\n",
       "      <th></th>\n",
       "      <th>datetime</th>\n",
       "      <th>count</th>\n",
       "    </tr>\n",
       "  </thead>\n",
       "  <tbody>\n",
       "    <tr>\n",
       "      <th>0</th>\n",
       "      <td>2011-01-20 00:00:00</td>\n",
       "      <td>0</td>\n",
       "    </tr>\n",
       "    <tr>\n",
       "      <th>1</th>\n",
       "      <td>2011-01-20 01:00:00</td>\n",
       "      <td>0</td>\n",
       "    </tr>\n",
       "    <tr>\n",
       "      <th>2</th>\n",
       "      <td>2011-01-20 02:00:00</td>\n",
       "      <td>0</td>\n",
       "    </tr>\n",
       "    <tr>\n",
       "      <th>3</th>\n",
       "      <td>2011-01-20 03:00:00</td>\n",
       "      <td>0</td>\n",
       "    </tr>\n",
       "    <tr>\n",
       "      <th>4</th>\n",
       "      <td>2011-01-20 04:00:00</td>\n",
       "      <td>0</td>\n",
       "    </tr>\n",
       "    <tr>\n",
       "      <th>...</th>\n",
       "      <td>...</td>\n",
       "      <td>...</td>\n",
       "    </tr>\n",
       "    <tr>\n",
       "      <th>6488</th>\n",
       "      <td>2012-12-31 19:00:00</td>\n",
       "      <td>0</td>\n",
       "    </tr>\n",
       "    <tr>\n",
       "      <th>6489</th>\n",
       "      <td>2012-12-31 20:00:00</td>\n",
       "      <td>0</td>\n",
       "    </tr>\n",
       "    <tr>\n",
       "      <th>6490</th>\n",
       "      <td>2012-12-31 21:00:00</td>\n",
       "      <td>0</td>\n",
       "    </tr>\n",
       "    <tr>\n",
       "      <th>6491</th>\n",
       "      <td>2012-12-31 22:00:00</td>\n",
       "      <td>0</td>\n",
       "    </tr>\n",
       "    <tr>\n",
       "      <th>6492</th>\n",
       "      <td>2012-12-31 23:00:00</td>\n",
       "      <td>0</td>\n",
       "    </tr>\n",
       "  </tbody>\n",
       "</table>\n",
       "<p>6493 rows × 2 columns</p>\n",
       "</div>"
      ],
      "text/plain": [
       "                 datetime  count\n",
       "0     2011-01-20 00:00:00      0\n",
       "1     2011-01-20 01:00:00      0\n",
       "2     2011-01-20 02:00:00      0\n",
       "3     2011-01-20 03:00:00      0\n",
       "4     2011-01-20 04:00:00      0\n",
       "...                   ...    ...\n",
       "6488  2012-12-31 19:00:00      0\n",
       "6489  2012-12-31 20:00:00      0\n",
       "6490  2012-12-31 21:00:00      0\n",
       "6491  2012-12-31 22:00:00      0\n",
       "6492  2012-12-31 23:00:00      0\n",
       "\n",
       "[6493 rows x 2 columns]"
      ]
     },
     "execution_count": 34,
     "metadata": {},
     "output_type": "execute_result"
    }
   ],
   "source": [
    "submission = pd.read_csv('../input/bike-sharing-demand/sampleSubmission.csv')\n",
    "submission"
   ]
  },
  {
   "cell_type": "code",
   "execution_count": 35,
   "id": "a27a3d48",
   "metadata": {
    "execution": {
     "iopub.execute_input": "2021-11-19T12:34:53.403913Z",
     "iopub.status.busy": "2021-11-19T12:34:53.402472Z",
     "iopub.status.idle": "2021-11-19T12:34:53.406622Z",
     "shell.execute_reply": "2021-11-19T12:34:53.406053Z",
     "shell.execute_reply.started": "2021-11-19T11:54:33.547301Z"
    },
    "id": "vLv094y8metn",
    "outputId": "a61d0e6f-8253-48a4-fc8d-95a68a83a178",
    "papermill": {
     "duration": 0.068104,
     "end_time": "2021-11-19T12:34:53.406772",
     "exception": false,
     "start_time": "2021-11-19T12:34:53.338668",
     "status": "completed"
    },
    "tags": []
   },
   "outputs": [
    {
     "data": {
      "text/html": [
       "<div>\n",
       "<style scoped>\n",
       "    .dataframe tbody tr th:only-of-type {\n",
       "        vertical-align: middle;\n",
       "    }\n",
       "\n",
       "    .dataframe tbody tr th {\n",
       "        vertical-align: top;\n",
       "    }\n",
       "\n",
       "    .dataframe thead th {\n",
       "        text-align: right;\n",
       "    }\n",
       "</style>\n",
       "<table border=\"1\" class=\"dataframe\">\n",
       "  <thead>\n",
       "    <tr style=\"text-align: right;\">\n",
       "      <th></th>\n",
       "      <th>datetime</th>\n",
       "      <th>count</th>\n",
       "    </tr>\n",
       "  </thead>\n",
       "  <tbody>\n",
       "    <tr>\n",
       "      <th>0</th>\n",
       "      <td>2011-01-20 00:00:00</td>\n",
       "      <td>13.104452</td>\n",
       "    </tr>\n",
       "    <tr>\n",
       "      <th>1</th>\n",
       "      <td>2011-01-20 01:00:00</td>\n",
       "      <td>5.662500</td>\n",
       "    </tr>\n",
       "    <tr>\n",
       "      <th>2</th>\n",
       "      <td>2011-01-20 02:00:00</td>\n",
       "      <td>5.531000</td>\n",
       "    </tr>\n",
       "    <tr>\n",
       "      <th>3</th>\n",
       "      <td>2011-01-20 03:00:00</td>\n",
       "      <td>3.477952</td>\n",
       "    </tr>\n",
       "    <tr>\n",
       "      <th>4</th>\n",
       "      <td>2011-01-20 04:00:00</td>\n",
       "      <td>2.642119</td>\n",
       "    </tr>\n",
       "    <tr>\n",
       "      <th>...</th>\n",
       "      <td>...</td>\n",
       "      <td>...</td>\n",
       "    </tr>\n",
       "    <tr>\n",
       "      <th>6488</th>\n",
       "      <td>2012-12-31 19:00:00</td>\n",
       "      <td>312.557583</td>\n",
       "    </tr>\n",
       "    <tr>\n",
       "      <th>6489</th>\n",
       "      <td>2012-12-31 20:00:00</td>\n",
       "      <td>209.193833</td>\n",
       "    </tr>\n",
       "    <tr>\n",
       "      <th>6490</th>\n",
       "      <td>2012-12-31 21:00:00</td>\n",
       "      <td>142.335000</td>\n",
       "    </tr>\n",
       "    <tr>\n",
       "      <th>6491</th>\n",
       "      <td>2012-12-31 22:00:00</td>\n",
       "      <td>114.352833</td>\n",
       "    </tr>\n",
       "    <tr>\n",
       "      <th>6492</th>\n",
       "      <td>2012-12-31 23:00:00</td>\n",
       "      <td>71.328667</td>\n",
       "    </tr>\n",
       "  </tbody>\n",
       "</table>\n",
       "<p>6493 rows × 2 columns</p>\n",
       "</div>"
      ],
      "text/plain": [
       "                 datetime       count\n",
       "0     2011-01-20 00:00:00   13.104452\n",
       "1     2011-01-20 01:00:00    5.662500\n",
       "2     2011-01-20 02:00:00    5.531000\n",
       "3     2011-01-20 03:00:00    3.477952\n",
       "4     2011-01-20 04:00:00    2.642119\n",
       "...                   ...         ...\n",
       "6488  2012-12-31 19:00:00  312.557583\n",
       "6489  2012-12-31 20:00:00  209.193833\n",
       "6490  2012-12-31 21:00:00  142.335000\n",
       "6491  2012-12-31 22:00:00  114.352833\n",
       "6492  2012-12-31 23:00:00   71.328667\n",
       "\n",
       "[6493 rows x 2 columns]"
      ]
     },
     "execution_count": 35,
     "metadata": {},
     "output_type": "execute_result"
    }
   ],
   "source": [
    "submission.loc[:, 'count'] = pred_exp\n",
    "submission"
   ]
  },
  {
   "cell_type": "code",
   "execution_count": 36,
   "id": "a6d5a5fd",
   "metadata": {
    "execution": {
     "iopub.execute_input": "2021-11-19T12:34:53.515850Z",
     "iopub.status.busy": "2021-11-19T12:34:53.515012Z",
     "iopub.status.idle": "2021-11-19T12:34:53.523776Z",
     "shell.execute_reply": "2021-11-19T12:34:53.523226Z",
     "shell.execute_reply.started": "2021-11-19T11:54:38.132417Z"
    },
    "papermill": {
     "duration": 0.065708,
     "end_time": "2021-11-19T12:34:53.523912",
     "exception": false,
     "start_time": "2021-11-19T12:34:53.458204",
     "status": "completed"
    },
    "tags": []
   },
   "outputs": [
    {
     "name": "stdout",
     "output_type": "stream",
     "text": [
      "<class 'pandas.core.frame.DataFrame'>\n",
      "RangeIndex: 6493 entries, 0 to 6492\n",
      "Data columns (total 2 columns):\n",
      " #   Column    Non-Null Count  Dtype  \n",
      "---  ------    --------------  -----  \n",
      " 0   datetime  6493 non-null   object \n",
      " 1   count     6493 non-null   float64\n",
      "dtypes: float64(1), object(1)\n",
      "memory usage: 101.6+ KB\n"
     ]
    }
   ],
   "source": [
    "submission.info()"
   ]
  },
  {
   "cell_type": "code",
   "execution_count": 37,
   "id": "ca0ffcbd",
   "metadata": {
    "execution": {
     "iopub.execute_input": "2021-11-19T12:34:53.635371Z",
     "iopub.status.busy": "2021-11-19T12:34:53.634501Z",
     "iopub.status.idle": "2021-11-19T12:34:53.662422Z",
     "shell.execute_reply": "2021-11-19T12:34:53.661970Z",
     "shell.execute_reply.started": "2021-11-19T11:54:42.027982Z"
    },
    "id": "0yO7yvujmev4",
    "papermill": {
     "duration": 0.083969,
     "end_time": "2021-11-19T12:34:53.662535",
     "exception": false,
     "start_time": "2021-11-19T12:34:53.578566",
     "status": "completed"
    },
    "tags": []
   },
   "outputs": [],
   "source": [
    "submission.to_csv('submission.csv', index=False)"
   ]
  },
  {
   "cell_type": "code",
   "execution_count": null,
   "id": "e8b9a932",
   "metadata": {
    "id": "OJ_y392Omexp",
    "papermill": {
     "duration": 0.051491,
     "end_time": "2021-11-19T12:34:53.766285",
     "exception": false,
     "start_time": "2021-11-19T12:34:53.714794",
     "status": "completed"
    },
    "tags": []
   },
   "outputs": [],
   "source": []
  }
 ],
 "metadata": {
  "kernelspec": {
   "display_name": "Python 3",
   "language": "python",
   "name": "python3"
  },
  "language_info": {
   "codemirror_mode": {
    "name": "ipython",
    "version": 3
   },
   "file_extension": ".py",
   "mimetype": "text/x-python",
   "name": "python",
   "nbconvert_exporter": "python",
   "pygments_lexer": "ipython3",
   "version": "3.7.10"
  },
  "papermill": {
   "default_parameters": {},
   "duration": 1409.064429,
   "end_time": "2021-11-19T12:34:56.128007",
   "environment_variables": {},
   "exception": null,
   "input_path": "__notebook__.ipynb",
   "output_path": "__notebook__.ipynb",
   "parameters": {},
   "start_time": "2021-11-19T12:11:27.063578",
   "version": "2.3.3"
  }
 },
 "nbformat": 4,
 "nbformat_minor": 5
}
